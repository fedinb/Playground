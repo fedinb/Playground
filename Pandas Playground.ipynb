{
 "cells": [
  {
   "cell_type": "markdown",
   "metadata": {},
   "source": [
    "In this file I'm going to practice basic Pandas commands, methods and tricks. Sample file created in Excel is taken from Nicolas Vandeput's book called Inventory Optimization. It represents the data of car sales in Norway."
   ]
  },
  {
   "cell_type": "code",
   "execution_count": 29,
   "metadata": {},
   "outputs": [],
   "source": [
    "import pandas as pd\n",
    "pd.options.mode.chained_assignment = None\n",
    "from matplotlib import pyplot as plt\n",
    "import matplotlib.patches as mpatches\n",
    "import sidetable\n",
    "import calendar"
   ]
  },
  {
   "cell_type": "code",
   "execution_count": 2,
   "metadata": {},
   "outputs": [],
   "source": [
    "pd.set_option('display.width', 150)\n",
    "pd.options.display.max_colwidth = 150"
   ]
  },
  {
   "cell_type": "code",
   "execution_count": 3,
   "metadata": {},
   "outputs": [],
   "source": [
    "df = pd.read_csv(r'C:\\Playground\\norway_new_car_sales_by_make.csv')"
   ]
  },
  {
   "cell_type": "code",
   "execution_count": 4,
   "metadata": {
    "scrolled": true
   },
   "outputs": [
    {
     "data": {
      "text/html": [
       "<div>\n",
       "<style scoped>\n",
       "    .dataframe tbody tr th:only-of-type {\n",
       "        vertical-align: middle;\n",
       "    }\n",
       "\n",
       "    .dataframe tbody tr th {\n",
       "        vertical-align: top;\n",
       "    }\n",
       "\n",
       "    .dataframe thead th {\n",
       "        text-align: right;\n",
       "    }\n",
       "</style>\n",
       "<table border=\"1\" class=\"dataframe\">\n",
       "  <thead>\n",
       "    <tr style=\"text-align: right;\">\n",
       "      <th></th>\n",
       "      <th>Year</th>\n",
       "      <th>Month</th>\n",
       "      <th>Make</th>\n",
       "      <th>Quantity</th>\n",
       "      <th>Pct</th>\n",
       "    </tr>\n",
       "  </thead>\n",
       "  <tbody>\n",
       "    <tr>\n",
       "      <th>1079</th>\n",
       "      <td>2009</td>\n",
       "      <td>5</td>\n",
       "      <td>Opel</td>\n",
       "      <td>426</td>\n",
       "      <td>5.7</td>\n",
       "    </tr>\n",
       "    <tr>\n",
       "      <th>1892</th>\n",
       "      <td>2011</td>\n",
       "      <td>3</td>\n",
       "      <td>Opel</td>\n",
       "      <td>526</td>\n",
       "      <td>4.1</td>\n",
       "    </tr>\n",
       "    <tr>\n",
       "      <th>191</th>\n",
       "      <td>2007</td>\n",
       "      <td>6</td>\n",
       "      <td>Ford</td>\n",
       "      <td>772</td>\n",
       "      <td>7.0</td>\n",
       "    </tr>\n",
       "    <tr>\n",
       "      <th>21</th>\n",
       "      <td>2007</td>\n",
       "      <td>1</td>\n",
       "      <td>MINI</td>\n",
       "      <td>26</td>\n",
       "      <td>0.2</td>\n",
       "    </tr>\n",
       "    <tr>\n",
       "      <th>1937</th>\n",
       "      <td>2011</td>\n",
       "      <td>4</td>\n",
       "      <td>Subaru</td>\n",
       "      <td>143</td>\n",
       "      <td>1.3</td>\n",
       "    </tr>\n",
       "  </tbody>\n",
       "</table>\n",
       "</div>"
      ],
      "text/plain": [
       "      Year  Month    Make  Quantity  Pct\n",
       "1079  2009      5    Opel       426  5.7\n",
       "1892  2011      3    Opel       526  4.1\n",
       "191   2007      6    Ford       772  7.0\n",
       "21    2007      1    MINI        26  0.2\n",
       "1937  2011      4  Subaru       143  1.3"
      ]
     },
     "execution_count": 4,
     "metadata": {},
     "output_type": "execute_result"
    }
   ],
   "source": [
    "df.sample(5)"
   ]
  },
  {
   "cell_type": "code",
   "execution_count": 5,
   "metadata": {
    "scrolled": false
   },
   "outputs": [
    {
     "name": "stdout",
     "output_type": "stream",
     "text": [
      "<class 'pandas.core.frame.DataFrame'>\n",
      "RangeIndex: 4377 entries, 0 to 4376\n",
      "Data columns (total 5 columns):\n",
      " #   Column    Non-Null Count  Dtype  \n",
      "---  ------    --------------  -----  \n",
      " 0   Year      4377 non-null   int64  \n",
      " 1   Month     4377 non-null   int64  \n",
      " 2   Make      4367 non-null   object \n",
      " 3   Quantity  4377 non-null   int64  \n",
      " 4   Pct       4377 non-null   float64\n",
      "dtypes: float64(1), int64(3), object(1)\n",
      "memory usage: 171.1+ KB\n"
     ]
    }
   ],
   "source": [
    "df.info()"
   ]
  },
  {
   "cell_type": "markdown",
   "metadata": {},
   "source": [
    "Above we can see that there are 10 rows with missing data in Make column: 4367 instead of 4377."
   ]
  },
  {
   "cell_type": "code",
   "execution_count": 6,
   "metadata": {
    "scrolled": true
   },
   "outputs": [
    {
     "data": {
      "text/html": [
       "<div>\n",
       "<style scoped>\n",
       "    .dataframe tbody tr th:only-of-type {\n",
       "        vertical-align: middle;\n",
       "    }\n",
       "\n",
       "    .dataframe tbody tr th {\n",
       "        vertical-align: top;\n",
       "    }\n",
       "\n",
       "    .dataframe thead th {\n",
       "        text-align: right;\n",
       "    }\n",
       "</style>\n",
       "<table border=\"1\" class=\"dataframe\">\n",
       "  <thead>\n",
       "    <tr style=\"text-align: right;\">\n",
       "      <th></th>\n",
       "      <th>Year</th>\n",
       "      <th>Month</th>\n",
       "      <th>Make</th>\n",
       "      <th>Quantity</th>\n",
       "      <th>Pct</th>\n",
       "    </tr>\n",
       "  </thead>\n",
       "  <tbody>\n",
       "    <tr>\n",
       "      <th>37</th>\n",
       "      <td>2007</td>\n",
       "      <td>1</td>\n",
       "      <td>NaN</td>\n",
       "      <td>1</td>\n",
       "      <td>0.0</td>\n",
       "    </tr>\n",
       "    <tr>\n",
       "      <th>112</th>\n",
       "      <td>2007</td>\n",
       "      <td>3</td>\n",
       "      <td>NaN</td>\n",
       "      <td>1</td>\n",
       "      <td>0.0</td>\n",
       "    </tr>\n",
       "    <tr>\n",
       "      <th>265</th>\n",
       "      <td>2007</td>\n",
       "      <td>7</td>\n",
       "      <td>NaN</td>\n",
       "      <td>1</td>\n",
       "      <td>0.0</td>\n",
       "    </tr>\n",
       "    <tr>\n",
       "      <th>419</th>\n",
       "      <td>2007</td>\n",
       "      <td>11</td>\n",
       "      <td>NaN</td>\n",
       "      <td>1</td>\n",
       "      <td>0.0</td>\n",
       "    </tr>\n",
       "    <tr>\n",
       "      <th>1256</th>\n",
       "      <td>2009</td>\n",
       "      <td>9</td>\n",
       "      <td>NaN</td>\n",
       "      <td>4</td>\n",
       "      <td>0.0</td>\n",
       "    </tr>\n",
       "    <tr>\n",
       "      <th>1294</th>\n",
       "      <td>2009</td>\n",
       "      <td>10</td>\n",
       "      <td>NaN</td>\n",
       "      <td>4</td>\n",
       "      <td>0.0</td>\n",
       "    </tr>\n",
       "    <tr>\n",
       "      <th>2399</th>\n",
       "      <td>2012</td>\n",
       "      <td>4</td>\n",
       "      <td>NaN</td>\n",
       "      <td>1</td>\n",
       "      <td>0.0</td>\n",
       "    </tr>\n",
       "    <tr>\n",
       "      <th>2478</th>\n",
       "      <td>2012</td>\n",
       "      <td>6</td>\n",
       "      <td>NaN</td>\n",
       "      <td>1</td>\n",
       "      <td>0.0</td>\n",
       "    </tr>\n",
       "    <tr>\n",
       "      <th>2517</th>\n",
       "      <td>2012</td>\n",
       "      <td>7</td>\n",
       "      <td>NaN</td>\n",
       "      <td>1</td>\n",
       "      <td>0.0</td>\n",
       "    </tr>\n",
       "    <tr>\n",
       "      <th>3013</th>\n",
       "      <td>2013</td>\n",
       "      <td>9</td>\n",
       "      <td>NaN</td>\n",
       "      <td>1</td>\n",
       "      <td>0.0</td>\n",
       "    </tr>\n",
       "  </tbody>\n",
       "</table>\n",
       "</div>"
      ],
      "text/plain": [
       "      Year  Month Make  Quantity  Pct\n",
       "37    2007      1  NaN         1  0.0\n",
       "112   2007      3  NaN         1  0.0\n",
       "265   2007      7  NaN         1  0.0\n",
       "419   2007     11  NaN         1  0.0\n",
       "1256  2009      9  NaN         4  0.0\n",
       "1294  2009     10  NaN         4  0.0\n",
       "2399  2012      4  NaN         1  0.0\n",
       "2478  2012      6  NaN         1  0.0\n",
       "2517  2012      7  NaN         1  0.0\n",
       "3013  2013      9  NaN         1  0.0"
      ]
     },
     "execution_count": 6,
     "metadata": {},
     "output_type": "execute_result"
    }
   ],
   "source": [
    "df[df.Make.isna()]"
   ]
  },
  {
   "cell_type": "markdown",
   "metadata": {},
   "source": [
    "We will drop the rows where elements in at least one column are missing. In our case this is Make column."
   ]
  },
  {
   "cell_type": "code",
   "execution_count": 7,
   "metadata": {},
   "outputs": [],
   "source": [
    "df.dropna(inplace=True)"
   ]
  },
  {
   "cell_type": "markdown",
   "metadata": {},
   "source": [
    "Let us learn the scale of data we're processing."
   ]
  },
  {
   "cell_type": "code",
   "execution_count": 8,
   "metadata": {},
   "outputs": [
    {
     "name": "stdout",
     "output_type": "stream",
     "text": [
      "First year: 2007 \n",
      "Last year: 2017\n"
     ]
    }
   ],
   "source": [
    "print('First year:',df['Year'].min(),'\\nLast year:',df['Year'].max())"
   ]
  },
  {
   "cell_type": "markdown",
   "metadata": {},
   "source": [
    "First of all we'll get a quick overview of sales performance within given years: 2007 - 2017."
   ]
  },
  {
   "cell_type": "code",
   "execution_count": 9,
   "metadata": {},
   "outputs": [],
   "source": [
    "dfSales = df[['Year','Quantity']].groupby(by='Year',as_index=False).sum()"
   ]
  },
  {
   "cell_type": "code",
   "execution_count": 10,
   "metadata": {
    "scrolled": true
   },
   "outputs": [
    {
     "data": {
      "text/plain": [
       "<AxesSubplot:title={'center':'Car sales volume between 2007 and 2017'}, xlabel='Year'>"
      ]
     },
     "execution_count": 10,
     "metadata": {},
     "output_type": "execute_result"
    },
    {
     "data": {
      "image/png": "[encoded data removed]",
      "text/plain": [
       "<Figure size 432x288 with 1 Axes>"
      ]
     },
     "metadata": {
      "needs_background": "light"
     },
     "output_type": "display_data"
    }
   ],
   "source": [
    "dfSales.plot(x='Year',y='Quantity',title='Car sales volume between 2007 and 2017')"
   ]
  },
  {
   "cell_type": "markdown",
   "metadata": {},
   "source": [
    "We can see a huge drop in sales after 2016. It may be caused by an incomplete amount of data available for 2017. \n",
    "\n",
    "Besides that we can see an obvious sales decrease between 2008 and 2010. It may have been caused by automotive industry crisis that took place exactly in these years. It has mainly affected USA, but European countries, including Norway, have also felt the recession."
   ]
  },
  {
   "cell_type": "markdown",
   "metadata": {},
   "source": [
    "Let us check the number of months for each year represented in the data set."
   ]
  },
  {
   "cell_type": "code",
   "execution_count": 11,
   "metadata": {},
   "outputs": [],
   "source": [
    "dfMonths = pd.pivot_table(df,columns='Year',values='Month',aggfunc=pd.Series.nunique)"
   ]
  },
  {
   "cell_type": "code",
   "execution_count": 12,
   "metadata": {},
   "outputs": [
    {
     "name": "stdout",
     "output_type": "stream",
     "text": [
      "Year   2007  2008  2009  2010  2011  2012  2013  2014  2015  2016  2017\n",
      "Month    12    12    12    12    12    12    12    12    12    12     1\n"
     ]
    }
   ],
   "source": [
    "print(dfMonths)"
   ]
  },
  {
   "cell_type": "markdown",
   "metadata": {},
   "source": [
    "As we can see, data for only one month is available in 2017. All previous years have a complete set of months.\n",
    "\n",
    "For that reason I'm going to filter out 2017 from the dataset and use a bit shortened version for further analysis."
   ]
  },
  {
   "cell_type": "code",
   "execution_count": 13,
   "metadata": {},
   "outputs": [],
   "source": [
    "dfS = df[df.Year < 2017] # S for Short"
   ]
  },
  {
   "cell_type": "markdown",
   "metadata": {},
   "source": [
    "Now we will make the next step and see how different carmakers performed during these years. \n",
    "\n",
    "First of all, which carmakers do we have in our dataset?"
   ]
  },
  {
   "cell_type": "code",
   "execution_count": 14,
   "metadata": {},
   "outputs": [
    {
     "data": {
      "text/plain": [
       "array(['Toyota', 'Volkswagen', 'Peugeot', 'Ford', 'Volvo', 'Skoda',\n",
       "       'Opel', 'Audi', 'Honda', 'Mercedes-Benz', 'BMW', 'Citroen',\n",
       "       'Suzuki', 'Mazda', 'Saab', 'Renault', 'Mitsubishi', 'Nissan',\n",
       "       'Hyundai', 'Kia', 'Dodge', 'MINI', 'Subaru', 'Lexus', 'Chevrolet',\n",
       "       'Alfa Romeo', 'Daihatsu', 'Land Rover', 'Fiat', 'Chrysler',\n",
       "       'Iveco', 'Jaguar', 'Jeep', 'Nilsson', 'Think', 'Smart',\n",
       "       'Ssangyong', 'Chevrolet US', 'Porsche', 'Cadillac', 'Aston Martin',\n",
       "       'Morgan', 'Bentley', 'Lancia', 'Maserati', 'Isuzu', 'Ferrari',\n",
       "       'Koenigsegg', 'Lamborghini', 'Seat', 'Tesla', 'Tata', 'Dacia',\n",
       "       'Infiniti', 'Lotus', 'Secma', 'Martin Motors', 'Fisker',\n",
       "       'Westfield', 'Mia', 'McLaren', 'Binz', 'Tazzari', 'Polaris', 'DS'],\n",
       "      dtype=object)"
      ]
     },
     "execution_count": 14,
     "metadata": {},
     "output_type": "execute_result"
    }
   ],
   "source": [
    "dfS.Make.unique()"
   ]
  },
  {
   "cell_type": "markdown",
   "metadata": {},
   "source": [
    "There are plenty of them. Let us see which of them have performed at their best within the whole period. We will do it with a utility library called Sidetable. I've imported it at the beginning of the script."
   ]
  },
  {
   "cell_type": "code",
   "execution_count": 93,
   "metadata": {
    "scrolled": false
   },
   "outputs": [
    {
     "data": {
      "text/html": [
       "<style  type=\"text/css\" >\n",
       "</style><table id=\"T_0758b488_7803_11eb_95ab_e4b97a6170c2\" ><thead>    <tr>        <th class=\"blank level0\" ></th>        <th class=\"col_heading level0 col0\" >Make</th>        <th class=\"col_heading level0 col1\" >Quantity</th>        <th class=\"col_heading level0 col2\" >percent</th>        <th class=\"col_heading level0 col3\" >cumulative_Quantity</th>        <th class=\"col_heading level0 col4\" >cumulative_percent</th>    </tr></thead><tbody>\n",
       "                <tr>\n",
       "                        <th id=\"T_0758b488_7803_11eb_95ab_e4b97a6170c2level0_row0\" class=\"row_heading level0 row0\" >0</th>\n",
       "                        <td id=\"T_0758b488_7803_11eb_95ab_e4b97a6170c2row0_col0\" class=\"data row0 col0\" >Volkswagen</td>\n",
       "                        <td id=\"T_0758b488_7803_11eb_95ab_e4b97a6170c2row0_col1\" class=\"data row0 col1\" >204,981</td>\n",
       "                        <td id=\"T_0758b488_7803_11eb_95ab_e4b97a6170c2row0_col2\" class=\"data row0 col2\" >15.36%</td>\n",
       "                        <td id=\"T_0758b488_7803_11eb_95ab_e4b97a6170c2row0_col3\" class=\"data row0 col3\" >204,981</td>\n",
       "                        <td id=\"T_0758b488_7803_11eb_95ab_e4b97a6170c2row0_col4\" class=\"data row0 col4\" >15.36%</td>\n",
       "            </tr>\n",
       "            <tr>\n",
       "                        <th id=\"T_0758b488_7803_11eb_95ab_e4b97a6170c2level0_row1\" class=\"row_heading level0 row1\" >1</th>\n",
       "                        <td id=\"T_0758b488_7803_11eb_95ab_e4b97a6170c2row1_col0\" class=\"data row1 col0\" >Toyota</td>\n",
       "                        <td id=\"T_0758b488_7803_11eb_95ab_e4b97a6170c2row1_col1\" class=\"data row1 col1\" >166,651</td>\n",
       "                        <td id=\"T_0758b488_7803_11eb_95ab_e4b97a6170c2row1_col2\" class=\"data row1 col2\" >12.49%</td>\n",
       "                        <td id=\"T_0758b488_7803_11eb_95ab_e4b97a6170c2row1_col3\" class=\"data row1 col3\" >371,632</td>\n",
       "                        <td id=\"T_0758b488_7803_11eb_95ab_e4b97a6170c2row1_col4\" class=\"data row1 col4\" >27.85%</td>\n",
       "            </tr>\n",
       "            <tr>\n",
       "                        <th id=\"T_0758b488_7803_11eb_95ab_e4b97a6170c2level0_row2\" class=\"row_heading level0 row2\" >2</th>\n",
       "                        <td id=\"T_0758b488_7803_11eb_95ab_e4b97a6170c2row2_col0\" class=\"data row2 col0\" >Ford</td>\n",
       "                        <td id=\"T_0758b488_7803_11eb_95ab_e4b97a6170c2row2_col1\" class=\"data row2 col1\" >99,096</td>\n",
       "                        <td id=\"T_0758b488_7803_11eb_95ab_e4b97a6170c2row2_col2\" class=\"data row2 col2\" >7.43%</td>\n",
       "                        <td id=\"T_0758b488_7803_11eb_95ab_e4b97a6170c2row2_col3\" class=\"data row2 col3\" >470,728</td>\n",
       "                        <td id=\"T_0758b488_7803_11eb_95ab_e4b97a6170c2row2_col4\" class=\"data row2 col4\" >35.28%</td>\n",
       "            </tr>\n",
       "            <tr>\n",
       "                        <th id=\"T_0758b488_7803_11eb_95ab_e4b97a6170c2level0_row3\" class=\"row_heading level0 row3\" >3</th>\n",
       "                        <td id=\"T_0758b488_7803_11eb_95ab_e4b97a6170c2row3_col0\" class=\"data row3 col0\" >Volvo</td>\n",
       "                        <td id=\"T_0758b488_7803_11eb_95ab_e4b97a6170c2row3_col1\" class=\"data row3 col1\" >98,779</td>\n",
       "                        <td id=\"T_0758b488_7803_11eb_95ab_e4b97a6170c2row3_col2\" class=\"data row3 col2\" >7.40%</td>\n",
       "                        <td id=\"T_0758b488_7803_11eb_95ab_e4b97a6170c2row3_col3\" class=\"data row3 col3\" >569,507</td>\n",
       "                        <td id=\"T_0758b488_7803_11eb_95ab_e4b97a6170c2row3_col4\" class=\"data row3 col4\" >42.69%</td>\n",
       "            </tr>\n",
       "            <tr>\n",
       "                        <th id=\"T_0758b488_7803_11eb_95ab_e4b97a6170c2level0_row4\" class=\"row_heading level0 row4\" >4</th>\n",
       "                        <td id=\"T_0758b488_7803_11eb_95ab_e4b97a6170c2row4_col0\" class=\"data row4 col0\" >BMW</td>\n",
       "                        <td id=\"T_0758b488_7803_11eb_95ab_e4b97a6170c2row4_col1\" class=\"data row4 col1\" >71,775</td>\n",
       "                        <td id=\"T_0758b488_7803_11eb_95ab_e4b97a6170c2row4_col2\" class=\"data row4 col2\" >5.38%</td>\n",
       "                        <td id=\"T_0758b488_7803_11eb_95ab_e4b97a6170c2row4_col3\" class=\"data row4 col3\" >641,282</td>\n",
       "                        <td id=\"T_0758b488_7803_11eb_95ab_e4b97a6170c2row4_col4\" class=\"data row4 col4\" >48.07%</td>\n",
       "            </tr>\n",
       "            <tr>\n",
       "                        <th id=\"T_0758b488_7803_11eb_95ab_e4b97a6170c2level0_row5\" class=\"row_heading level0 row5\" >5</th>\n",
       "                        <td id=\"T_0758b488_7803_11eb_95ab_e4b97a6170c2row5_col0\" class=\"data row5 col0\" >Audi</td>\n",
       "                        <td id=\"T_0758b488_7803_11eb_95ab_e4b97a6170c2row5_col1\" class=\"data row5 col1\" >69,910</td>\n",
       "                        <td id=\"T_0758b488_7803_11eb_95ab_e4b97a6170c2row5_col2\" class=\"data row5 col2\" >5.24%</td>\n",
       "                        <td id=\"T_0758b488_7803_11eb_95ab_e4b97a6170c2row5_col3\" class=\"data row5 col3\" >711,192</td>\n",
       "                        <td id=\"T_0758b488_7803_11eb_95ab_e4b97a6170c2row5_col4\" class=\"data row5 col4\" >53.31%</td>\n",
       "            </tr>\n",
       "            <tr>\n",
       "                        <th id=\"T_0758b488_7803_11eb_95ab_e4b97a6170c2level0_row6\" class=\"row_heading level0 row6\" >6</th>\n",
       "                        <td id=\"T_0758b488_7803_11eb_95ab_e4b97a6170c2row6_col0\" class=\"data row6 col0\" >Skoda</td>\n",
       "                        <td id=\"T_0758b488_7803_11eb_95ab_e4b97a6170c2row6_col1\" class=\"data row6 col1\" >65,326</td>\n",
       "                        <td id=\"T_0758b488_7803_11eb_95ab_e4b97a6170c2row6_col2\" class=\"data row6 col2\" >4.90%</td>\n",
       "                        <td id=\"T_0758b488_7803_11eb_95ab_e4b97a6170c2row6_col3\" class=\"data row6 col3\" >776,518</td>\n",
       "                        <td id=\"T_0758b488_7803_11eb_95ab_e4b97a6170c2row6_col4\" class=\"data row6 col4\" >58.20%</td>\n",
       "            </tr>\n",
       "            <tr>\n",
       "                        <th id=\"T_0758b488_7803_11eb_95ab_e4b97a6170c2level0_row7\" class=\"row_heading level0 row7\" >7</th>\n",
       "                        <td id=\"T_0758b488_7803_11eb_95ab_e4b97a6170c2row7_col0\" class=\"data row7 col0\" >Nissan</td>\n",
       "                        <td id=\"T_0758b488_7803_11eb_95ab_e4b97a6170c2row7_col1\" class=\"data row7 col1\" >63,920</td>\n",
       "                        <td id=\"T_0758b488_7803_11eb_95ab_e4b97a6170c2row7_col2\" class=\"data row7 col2\" >4.79%</td>\n",
       "                        <td id=\"T_0758b488_7803_11eb_95ab_e4b97a6170c2row7_col3\" class=\"data row7 col3\" >840,438</td>\n",
       "                        <td id=\"T_0758b488_7803_11eb_95ab_e4b97a6170c2row7_col4\" class=\"data row7 col4\" >62.99%</td>\n",
       "            </tr>\n",
       "            <tr>\n",
       "                        <th id=\"T_0758b488_7803_11eb_95ab_e4b97a6170c2level0_row8\" class=\"row_heading level0 row8\" >8</th>\n",
       "                        <td id=\"T_0758b488_7803_11eb_95ab_e4b97a6170c2row8_col0\" class=\"data row8 col0\" >Peugeot</td>\n",
       "                        <td id=\"T_0758b488_7803_11eb_95ab_e4b97a6170c2row8_col1\" class=\"data row8 col1\" >60,462</td>\n",
       "                        <td id=\"T_0758b488_7803_11eb_95ab_e4b97a6170c2row8_col2\" class=\"data row8 col2\" >4.53%</td>\n",
       "                        <td id=\"T_0758b488_7803_11eb_95ab_e4b97a6170c2row8_col3\" class=\"data row8 col3\" >900,900</td>\n",
       "                        <td id=\"T_0758b488_7803_11eb_95ab_e4b97a6170c2row8_col4\" class=\"data row8 col4\" >67.52%</td>\n",
       "            </tr>\n",
       "            <tr>\n",
       "                        <th id=\"T_0758b488_7803_11eb_95ab_e4b97a6170c2level0_row9\" class=\"row_heading level0 row9\" >9</th>\n",
       "                        <td id=\"T_0758b488_7803_11eb_95ab_e4b97a6170c2row9_col0\" class=\"data row9 col0\" >Mercedes-Benz</td>\n",
       "                        <td id=\"T_0758b488_7803_11eb_95ab_e4b97a6170c2row9_col1\" class=\"data row9 col1\" >56,587</td>\n",
       "                        <td id=\"T_0758b488_7803_11eb_95ab_e4b97a6170c2row9_col2\" class=\"data row9 col2\" >4.24%</td>\n",
       "                        <td id=\"T_0758b488_7803_11eb_95ab_e4b97a6170c2row9_col3\" class=\"data row9 col3\" >957,487</td>\n",
       "                        <td id=\"T_0758b488_7803_11eb_95ab_e4b97a6170c2row9_col4\" class=\"data row9 col4\" >71.77%</td>\n",
       "            </tr>\n",
       "            <tr>\n",
       "                        <th id=\"T_0758b488_7803_11eb_95ab_e4b97a6170c2level0_row10\" class=\"row_heading level0 row10\" >10</th>\n",
       "                        <td id=\"T_0758b488_7803_11eb_95ab_e4b97a6170c2row10_col0\" class=\"data row10 col0\" >Mitsubishi</td>\n",
       "                        <td id=\"T_0758b488_7803_11eb_95ab_e4b97a6170c2row10_col1\" class=\"data row10 col1\" >51,403</td>\n",
       "                        <td id=\"T_0758b488_7803_11eb_95ab_e4b97a6170c2row10_col2\" class=\"data row10 col2\" >3.85%</td>\n",
       "                        <td id=\"T_0758b488_7803_11eb_95ab_e4b97a6170c2row10_col3\" class=\"data row10 col3\" >1,008,890</td>\n",
       "                        <td id=\"T_0758b488_7803_11eb_95ab_e4b97a6170c2row10_col4\" class=\"data row10 col4\" >75.62%</td>\n",
       "            </tr>\n",
       "            <tr>\n",
       "                        <th id=\"T_0758b488_7803_11eb_95ab_e4b97a6170c2level0_row11\" class=\"row_heading level0 row11\" >11</th>\n",
       "                        <td id=\"T_0758b488_7803_11eb_95ab_e4b97a6170c2row11_col0\" class=\"data row11 col0\" >Mazda</td>\n",
       "                        <td id=\"T_0758b488_7803_11eb_95ab_e4b97a6170c2row11_col1\" class=\"data row11 col1\" >43,021</td>\n",
       "                        <td id=\"T_0758b488_7803_11eb_95ab_e4b97a6170c2row11_col2\" class=\"data row11 col2\" >3.22%</td>\n",
       "                        <td id=\"T_0758b488_7803_11eb_95ab_e4b97a6170c2row11_col3\" class=\"data row11 col3\" >1,051,911</td>\n",
       "                        <td id=\"T_0758b488_7803_11eb_95ab_e4b97a6170c2row11_col4\" class=\"data row11 col4\" >78.84%</td>\n",
       "            </tr>\n",
       "            <tr>\n",
       "                        <th id=\"T_0758b488_7803_11eb_95ab_e4b97a6170c2level0_row12\" class=\"row_heading level0 row12\" >12</th>\n",
       "                        <td id=\"T_0758b488_7803_11eb_95ab_e4b97a6170c2row12_col0\" class=\"data row12 col0\" >Remaining carmakers</td>\n",
       "                        <td id=\"T_0758b488_7803_11eb_95ab_e4b97a6170c2row12_col1\" class=\"data row12 col1\" >282,268</td>\n",
       "                        <td id=\"T_0758b488_7803_11eb_95ab_e4b97a6170c2row12_col2\" class=\"data row12 col2\" >21.16%</td>\n",
       "                        <td id=\"T_0758b488_7803_11eb_95ab_e4b97a6170c2row12_col3\" class=\"data row12 col3\" >1,334,179</td>\n",
       "                        <td id=\"T_0758b488_7803_11eb_95ab_e4b97a6170c2row12_col4\" class=\"data row12 col4\" >100.00%</td>\n",
       "            </tr>\n",
       "    </tbody></table>"
      ],
      "text/plain": [
       "<pandas.io.formats.style.Styler at 0x154ed51ffd0>"
      ]
     },
     "execution_count": 93,
     "metadata": {},
     "output_type": "execute_result"
    }
   ],
   "source": [
    "dfS.stb.freq(['Make'],value='Quantity',thresh=80,other_label='Remaining carmakers',style=True)"
   ]
  },
  {
   "cell_type": "markdown",
   "metadata": {},
   "source": [
    "Above we have Top 11 carmakers that account for 80% of total sales. The leader is Volkswagen. Its sales volumes make up 15% of the total sales within the whole period."
   ]
  },
  {
   "cell_type": "markdown",
   "metadata": {},
   "source": [
    "Now we are going to find a best-selling carmaker in each year from 2007 to 2016."
   ]
  },
  {
   "cell_type": "code",
   "execution_count": 16,
   "metadata": {},
   "outputs": [],
   "source": [
    "dfR = dfS.groupby(['Year','Make'],as_index=False)['Quantity'].sum() # R for Rating"
   ]
  },
  {
   "cell_type": "code",
   "execution_count": 17,
   "metadata": {},
   "outputs": [],
   "source": [
    "dfR = dfR[dfR['Quantity'] == dfR.groupby('Year')['Quantity'].transform('max')].sort_values(by=['Year'],ascending=False).reset_index(drop=True)"
   ]
  },
  {
   "cell_type": "code",
   "execution_count": 18,
   "metadata": {
    "scrolled": true
   },
   "outputs": [
    {
     "name": "stdout",
     "output_type": "stream",
     "text": [
      "   Year        Make  Quantity\n",
      "0  2016  Volkswagen     26574\n",
      "1  2015  Volkswagen     26344\n",
      "2  2014  Volkswagen     21659\n",
      "3  2013  Volkswagen     19130\n",
      "4  2012  Volkswagen     20507\n",
      "5  2011  Volkswagen     20898\n",
      "6  2010  Volkswagen     19172\n",
      "7  2009      Toyota     14605\n",
      "8  2008  Volkswagen     16741\n",
      "9  2007      Toyota     20683\n"
     ]
    }
   ],
   "source": [
    "print(dfR)"
   ]
  },
  {
   "cell_type": "markdown",
   "metadata": {},
   "source": [
    "As we can see above, Volkswagen has become the top-selling carmaker almost in each year except 2009 and 2007. Toyota performed better in these years. \n",
    "\n",
    "Let us visualize it with a barchart."
   ]
  },
  {
   "cell_type": "code",
   "execution_count": 19,
   "metadata": {
    "scrolled": false
   },
   "outputs": [
    {
     "data": {
      "image/png": "[encoded data removed]",
      "text/plain": [
       "<Figure size 576x288 with 1 Axes>"
      ]
     },
     "metadata": {
      "needs_background": "light"
     },
     "output_type": "display_data"
    }
   ],
   "source": [
    "dfR.plot.barh(figsize=(8,4),x='Year',y='Quantity',width=0.8,legend=None,\n",
    "              color=['navy','navy','navy','navy','navy','navy','navy','crimson','navy','crimson'])\n",
    "\n",
    "\n",
    "plt.title('Best-selling carmakers in Norway between 2006 and 2016')\n",
    "plt.xlabel('Number of cars sold',size=12)\n",
    "plt.ylabel('Year',size=12)\n",
    "\n",
    "red_patch = mpatches.Patch(color='crimson', label='Toyota')\n",
    "blue_patch = mpatches.Patch(color='navy', label='Volkswagen')\n",
    "\n",
    "plt.legend(handles=[red_patch, blue_patch])\n",
    "# plt.rcParams[\"legend.fontsize\"] = 11\n",
    "\n",
    "\n",
    "plt.show()"
   ]
  },
  {
   "cell_type": "markdown",
   "metadata": {},
   "source": [
    "As we can see above, Toyota hasn't shown big numbers in 2009, although it was enough to leave Volswagen behind. Besides that, Toyota sales were rather high in 2007. It may happen that Volkswagen performance was only a bit weaker, so we need to find a gap between two brands in 2007 and 2009."
   ]
  },
  {
   "cell_type": "code",
   "execution_count": 20,
   "metadata": {},
   "outputs": [],
   "source": [
    "dfC = dfS.groupby(['Year','Make'],as_index=False)['Quantity'].sum() # C for Comparison"
   ]
  },
  {
   "cell_type": "code",
   "execution_count": 21,
   "metadata": {},
   "outputs": [],
   "source": [
    "dfC = dfC[(dfC.Year.isin([2007,2009])) & (dfC.Make.isin(['Volkswagen','Toyota']))]"
   ]
  },
  {
   "cell_type": "code",
   "execution_count": 22,
   "metadata": {},
   "outputs": [],
   "source": [
    "dfC['Gap'] = ''\n",
    "dfC.iloc[0,3] = dfC.iloc[0,2] - dfC.iloc[1,2] # Gap value for 2007\n",
    "dfC.iloc[2,3] = dfC.iloc[2,2] - dfC.iloc[3,2] # Gap value for 2009"
   ]
  },
  {
   "cell_type": "code",
   "execution_count": 23,
   "metadata": {},
   "outputs": [
    {
     "data": {
      "text/html": [
       "<div>\n",
       "<style scoped>\n",
       "    .dataframe tbody tr th:only-of-type {\n",
       "        vertical-align: middle;\n",
       "    }\n",
       "\n",
       "    .dataframe tbody tr th {\n",
       "        vertical-align: top;\n",
       "    }\n",
       "\n",
       "    .dataframe thead th {\n",
       "        text-align: right;\n",
       "    }\n",
       "</style>\n",
       "<table border=\"1\" class=\"dataframe\">\n",
       "  <thead>\n",
       "    <tr style=\"text-align: right;\">\n",
       "      <th></th>\n",
       "      <th>Year</th>\n",
       "      <th>Make</th>\n",
       "      <th>Quantity</th>\n",
       "      <th>Gap</th>\n",
       "    </tr>\n",
       "  </thead>\n",
       "  <tbody>\n",
       "    <tr>\n",
       "      <th>43</th>\n",
       "      <td>2007</td>\n",
       "      <td>Toyota</td>\n",
       "      <td>20683</td>\n",
       "      <td>994</td>\n",
       "    </tr>\n",
       "    <tr>\n",
       "      <th>44</th>\n",
       "      <td>2007</td>\n",
       "      <td>Volkswagen</td>\n",
       "      <td>19689</td>\n",
       "      <td></td>\n",
       "    </tr>\n",
       "    <tr>\n",
       "      <th>136</th>\n",
       "      <td>2009</td>\n",
       "      <td>Toyota</td>\n",
       "      <td>14605</td>\n",
       "      <td>338</td>\n",
       "    </tr>\n",
       "    <tr>\n",
       "      <th>137</th>\n",
       "      <td>2009</td>\n",
       "      <td>Volkswagen</td>\n",
       "      <td>14267</td>\n",
       "      <td></td>\n",
       "    </tr>\n",
       "  </tbody>\n",
       "</table>\n",
       "</div>"
      ],
      "text/plain": [
       "     Year        Make  Quantity  Gap\n",
       "43   2007      Toyota     20683  994\n",
       "44   2007  Volkswagen     19689     \n",
       "136  2009      Toyota     14605  338\n",
       "137  2009  Volkswagen     14267     "
      ]
     },
     "execution_count": 23,
     "metadata": {},
     "output_type": "execute_result"
    }
   ],
   "source": [
    "dfC"
   ]
  },
  {
   "cell_type": "markdown",
   "metadata": {},
   "source": [
    "As you can see above, gap between brands' sales in both 2007 and 2009 is less than 1,000 cars. The competition seems to be close, so I want to see the gap for all the years. Line chart is likely to provide a clear overview."
   ]
  },
  {
   "cell_type": "code",
   "execution_count": 24,
   "metadata": {
    "scrolled": true
   },
   "outputs": [],
   "source": [
    "dfVT = pd.pivot_table(dfS[dfS.Make.isin(['Volkswagen','Toyota'])],index='Year',columns='Make',values=['Quantity'],aggfunc='sum')"
   ]
  },
  {
   "cell_type": "code",
   "execution_count": 25,
   "metadata": {},
   "outputs": [
    {
     "data": {
      "image/png": "[encoded data removed]",
      "text/plain": [
       "<Figure size 576x288 with 1 Axes>"
      ]
     },
     "metadata": {
      "needs_background": "light"
     },
     "output_type": "display_data"
    }
   ],
   "source": [
    "dfVT.plot(figsize=(8,4),legend=None,color=['crimson','navy'])\n",
    "\n",
    "plt.title('Toyota and Volkswagen sales in Norway between 2006 and 2016')\n",
    "plt.ylabel('Number of cars sold',size=12)\n",
    "plt.xlabel('Year',size=12)\n",
    "\n",
    "red_patch = mpatches.Patch(color='crimson', label='Toyota')\n",
    "blue_patch = mpatches.Patch(color='navy', label='Volkswagen')\n",
    "\n",
    "plt.legend(handles=[red_patch, blue_patch]) # custom legend created for this chart\n",
    "\n",
    "plt.show()"
   ]
  },
  {
   "cell_type": "markdown",
   "metadata": {},
   "source": [
    "Line chart shows us that volumes in 2007 and 2009 were just lucky ones for Toyota. In all remaining years Volkswagen was more succesful and the gap was more sufficient."
   ]
  },
  {
   "cell_type": "markdown",
   "metadata": {},
   "source": [
    "Now we are going to find the most profitable months for Volkswagen."
   ]
  },
  {
   "cell_type": "markdown",
   "metadata": {},
   "source": [
    "Before that we will add a column with month names. As you may have noticed, currently months in column Month are displayed as numbers. You still can understand which month is mentioned, but it's the best approach.\n",
    "\n",
    "In order to add months' names I've imported a module called *calendar*."
   ]
  },
  {
   "cell_type": "code",
   "execution_count": 30,
   "metadata": {
    "scrolled": false
   },
   "outputs": [],
   "source": [
    "months = []\n",
    "\n",
    "\n",
    "for value in dfS.Month:\n",
    "    months.append(calendar.month_abbr[value]) # this loops adds a name of month to a list using module calendar\n",
    "    \n",
    "dfS.loc[:, ['MonthName']] = months\n",
    "\n",
    "dfS = dfS[['Year','Month','MonthName','Make','Quantity','Pct']] # changing the order of columns"
   ]
  },
  {
   "cell_type": "markdown",
   "metadata": {},
   "source": [
    "Now we have a new column with a month name abbreviation. Let us use it in x-axis in the chart."
   ]
  },
  {
   "cell_type": "code",
   "execution_count": 66,
   "metadata": {},
   "outputs": [],
   "source": [
    "dfM = dfS[(dfS.Make == 'Volkswagen') & (dfS.Year == 2016)].groupby(['Month','MonthName'],as_index=False)['Quantity'].sum()"
   ]
  },
  {
   "cell_type": "code",
   "execution_count": 80,
   "metadata": {
    "scrolled": true
   },
   "outputs": [
    {
     "data": {
      "image/png": "[encoded data removed]",
      "text/plain": [
       "<Figure size 576x288 with 1 Axes>"
      ]
     },
     "metadata": {
      "needs_background": "light"
     },
     "output_type": "display_data"
    }
   ],
   "source": [
    "dfM.plot(figsize=(8,4),x='Month',color='navy',legend=None)\n",
    "\n",
    "plt.title('Volkswagen monthly sales in Norway in 2016')\n",
    "plt.ylabel('Number of cars sold',size=12)\n",
    "plt.xlabel('Month',size=12)\n",
    "\n",
    "plt.xticks(ticks=dfM.Month,labels=dfM.MonthName)   # name of months are displayed instead of their number orders\n",
    "plt.grid(axis='both', which='both',linestyle='--')\n",
    "\n",
    "plt.show()"
   ]
  },
  {
   "cell_type": "markdown",
   "metadata": {},
   "source": [
    "On the chart we observe the lowest sales in January (~1800 cars) and the peak in April (~3000 cars). \n",
    "\n",
    "Sales in the following months are rather stable."
   ]
  }
 ],
 "metadata": {
  "kernelspec": {
   "display_name": "Python 3",
   "language": "python",
   "name": "python3"
  },
  "language_info": {
   "codemirror_mode": {
    "name": "ipython",
    "version": 3
   },
   "file_extension": ".py",
   "mimetype": "text/x-python",
   "name": "python",
   "nbconvert_exporter": "python",
   "pygments_lexer": "ipython3",
   "version": "3.8.3"
  }
 },
 "nbformat": 4,
 "nbformat_minor": 4
}
